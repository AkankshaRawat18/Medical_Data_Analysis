{
 "cells": [
  {
   "cell_type": "markdown",
   "metadata": {},
   "source": [
    "### Analysis performed by Akanksha Rawat"
   ]
  },
  {
   "cell_type": "code",
   "execution_count": 1,
   "metadata": {},
   "outputs": [],
   "source": [
    "import pandas as pd"
   ]
  },
  {
   "cell_type": "markdown",
   "metadata": {},
   "source": [
    "# Load data"
   ]
  },
  {
   "cell_type": "code",
   "execution_count": 2,
   "metadata": {},
   "outputs": [
    {
     "data": {
      "text/html": [
       "<div>\n",
       "<style scoped>\n",
       "    .dataframe tbody tr th:only-of-type {\n",
       "        vertical-align: middle;\n",
       "    }\n",
       "\n",
       "    .dataframe tbody tr th {\n",
       "        vertical-align: top;\n",
       "    }\n",
       "\n",
       "    .dataframe thead th {\n",
       "        text-align: right;\n",
       "    }\n",
       "</style>\n",
       "<table border=\"1\" class=\"dataframe\">\n",
       "  <thead>\n",
       "    <tr style=\"text-align: right;\">\n",
       "      <th></th>\n",
       "      <th>PATIENT_ID</th>\n",
       "      <th>Age</th>\n",
       "      <th>Gender</th>\n",
       "      <th>Height</th>\n",
       "      <th>ICUType</th>\n",
       "      <th>BUN_Min</th>\n",
       "      <th>Creatinine_Min</th>\n",
       "      <th>GCS_Min</th>\n",
       "      <th>Glucose_Min</th>\n",
       "      <th>HCO3_Min</th>\n",
       "      <th>...</th>\n",
       "      <th>Na_Range</th>\n",
       "      <th>PaCO2_Range</th>\n",
       "      <th>PaO2_Range</th>\n",
       "      <th>Platelets_Range</th>\n",
       "      <th>Temp_Range</th>\n",
       "      <th>Urine_Range</th>\n",
       "      <th>WBC_Range</th>\n",
       "      <th>Weight_Range</th>\n",
       "      <th>pH_Range</th>\n",
       "      <th>In-hospital_death</th>\n",
       "    </tr>\n",
       "  </thead>\n",
       "  <tbody>\n",
       "    <tr>\n",
       "      <th>0</th>\n",
       "      <td>132539.0</td>\n",
       "      <td>54.0</td>\n",
       "      <td>0.0</td>\n",
       "      <td>-1.0</td>\n",
       "      <td>4.0</td>\n",
       "      <td>8.0</td>\n",
       "      <td>0.7</td>\n",
       "      <td>14.0</td>\n",
       "      <td>115.0</td>\n",
       "      <td>26.0</td>\n",
       "      <td>...</td>\n",
       "      <td>1.0</td>\n",
       "      <td>NaN</td>\n",
       "      <td>NaN</td>\n",
       "      <td>36.0</td>\n",
       "      <td>3.1</td>\n",
       "      <td>900.0</td>\n",
       "      <td>1.8</td>\n",
       "      <td>0.0</td>\n",
       "      <td>NaN</td>\n",
       "      <td>0</td>\n",
       "    </tr>\n",
       "    <tr>\n",
       "      <th>1</th>\n",
       "      <td>132540.0</td>\n",
       "      <td>76.0</td>\n",
       "      <td>1.0</td>\n",
       "      <td>175.3</td>\n",
       "      <td>2.0</td>\n",
       "      <td>16.0</td>\n",
       "      <td>0.8</td>\n",
       "      <td>3.0</td>\n",
       "      <td>105.0</td>\n",
       "      <td>21.0</td>\n",
       "      <td>...</td>\n",
       "      <td>4.0</td>\n",
       "      <td>13.0</td>\n",
       "      <td>363.0</td>\n",
       "      <td>91.0</td>\n",
       "      <td>3.4</td>\n",
       "      <td>770.0</td>\n",
       "      <td>5.9</td>\n",
       "      <td>5.6</td>\n",
       "      <td>0.11</td>\n",
       "      <td>0</td>\n",
       "    </tr>\n",
       "    <tr>\n",
       "      <th>2</th>\n",
       "      <td>132541.0</td>\n",
       "      <td>44.0</td>\n",
       "      <td>0.0</td>\n",
       "      <td>-1.0</td>\n",
       "      <td>3.0</td>\n",
       "      <td>3.0</td>\n",
       "      <td>0.3</td>\n",
       "      <td>5.0</td>\n",
       "      <td>119.0</td>\n",
       "      <td>24.0</td>\n",
       "      <td>...</td>\n",
       "      <td>3.0</td>\n",
       "      <td>4.0</td>\n",
       "      <td>167.0</td>\n",
       "      <td>41.0</td>\n",
       "      <td>2.3</td>\n",
       "      <td>407.0</td>\n",
       "      <td>2.5</td>\n",
       "      <td>0.0</td>\n",
       "      <td>0.04</td>\n",
       "      <td>0</td>\n",
       "    </tr>\n",
       "    <tr>\n",
       "      <th>3</th>\n",
       "      <td>132543.0</td>\n",
       "      <td>68.0</td>\n",
       "      <td>1.0</td>\n",
       "      <td>180.3</td>\n",
       "      <td>3.0</td>\n",
       "      <td>10.0</td>\n",
       "      <td>0.7</td>\n",
       "      <td>14.0</td>\n",
       "      <td>106.0</td>\n",
       "      <td>27.0</td>\n",
       "      <td>...</td>\n",
       "      <td>4.0</td>\n",
       "      <td>NaN</td>\n",
       "      <td>NaN</td>\n",
       "      <td>107.0</td>\n",
       "      <td>1.9</td>\n",
       "      <td>600.0</td>\n",
       "      <td>3.6</td>\n",
       "      <td>0.0</td>\n",
       "      <td>NaN</td>\n",
       "      <td>0</td>\n",
       "    </tr>\n",
       "    <tr>\n",
       "      <th>4</th>\n",
       "      <td>132545.0</td>\n",
       "      <td>88.0</td>\n",
       "      <td>0.0</td>\n",
       "      <td>-1.0</td>\n",
       "      <td>3.0</td>\n",
       "      <td>25.0</td>\n",
       "      <td>1.0</td>\n",
       "      <td>15.0</td>\n",
       "      <td>92.0</td>\n",
       "      <td>18.0</td>\n",
       "      <td>...</td>\n",
       "      <td>1.0</td>\n",
       "      <td>NaN</td>\n",
       "      <td>NaN</td>\n",
       "      <td>12.0</td>\n",
       "      <td>2.0</td>\n",
       "      <td>204.0</td>\n",
       "      <td>1.0</td>\n",
       "      <td>0.0</td>\n",
       "      <td>NaN</td>\n",
       "      <td>0</td>\n",
       "    </tr>\n",
       "  </tbody>\n",
       "</table>\n",
       "<p>5 rows × 111 columns</p>\n",
       "</div>"
      ],
      "text/plain": [
       "   PATIENT_ID   Age  Gender  Height  ICUType  BUN_Min  Creatinine_Min  \\\n",
       "0    132539.0  54.0     0.0    -1.0      4.0      8.0             0.7   \n",
       "1    132540.0  76.0     1.0   175.3      2.0     16.0             0.8   \n",
       "2    132541.0  44.0     0.0    -1.0      3.0      3.0             0.3   \n",
       "3    132543.0  68.0     1.0   180.3      3.0     10.0             0.7   \n",
       "4    132545.0  88.0     0.0    -1.0      3.0     25.0             1.0   \n",
       "\n",
       "   GCS_Min  Glucose_Min  HCO3_Min        ...          Na_Range  PaCO2_Range  \\\n",
       "0     14.0        115.0      26.0        ...               1.0          NaN   \n",
       "1      3.0        105.0      21.0        ...               4.0         13.0   \n",
       "2      5.0        119.0      24.0        ...               3.0          4.0   \n",
       "3     14.0        106.0      27.0        ...               4.0          NaN   \n",
       "4     15.0         92.0      18.0        ...               1.0          NaN   \n",
       "\n",
       "   PaO2_Range  Platelets_Range  Temp_Range  Urine_Range  WBC_Range  \\\n",
       "0         NaN             36.0         3.1        900.0        1.8   \n",
       "1       363.0             91.0         3.4        770.0        5.9   \n",
       "2       167.0             41.0         2.3        407.0        2.5   \n",
       "3         NaN            107.0         1.9        600.0        3.6   \n",
       "4         NaN             12.0         2.0        204.0        1.0   \n",
       "\n",
       "   Weight_Range  pH_Range  In-hospital_death  \n",
       "0           0.0       NaN                  0  \n",
       "1           5.6      0.11                  0  \n",
       "2           0.0      0.04                  0  \n",
       "3           0.0       NaN                  0  \n",
       "4           0.0       NaN                  0  \n",
       "\n",
       "[5 rows x 111 columns]"
      ]
     },
     "execution_count": 2,
     "metadata": {},
     "output_type": "execute_result"
    }
   ],
   "source": [
    "hospital_data = pd.read_csv('hospital_mortality.csv')\n",
    "hospital_data.head(5)"
   ]
  },
  {
   "cell_type": "markdown",
   "metadata": {},
   "source": [
    "### How many patients have 20 or more missing feature values? "
   ]
  },
  {
   "cell_type": "code",
   "execution_count": 3,
   "metadata": {},
   "outputs": [],
   "source": [
    "## Your code here\n",
    "num_cols = len(hospital_data.columns)\n",
    "row_values = hospital_data.apply(lambda x: x.count(), axis=1)"
   ]
  },
  {
   "cell_type": "code",
   "execution_count": 4,
   "metadata": {},
   "outputs": [],
   "source": [
    "data_with_20_or_more_missing_values = hospital_data.loc[num_cols-row_values>=20]"
   ]
  },
  {
   "cell_type": "code",
   "execution_count": 5,
   "metadata": {},
   "outputs": [
    {
     "name": "stdout",
     "output_type": "stream",
     "text": [
      "Patients with 20 or more missing feature values: 210\n"
     ]
    }
   ],
   "source": [
    "print('Patients with 20 or more missing feature values:',len(data_with_20_or_more_missing_values))"
   ]
  },
  {
   "cell_type": "markdown",
   "metadata": {},
   "source": [
    "### What’s the difference in means of HR_min for patients that died vs survived (not counting patients with HR_min of  0)?"
   ]
  },
  {
   "cell_type": "code",
   "execution_count": 6,
   "metadata": {},
   "outputs": [],
   "source": [
    "## Your code here\n",
    "hospital_data_non_0_HR_min = hospital_data[hospital_data.HR_Min!=0]"
   ]
  },
  {
   "cell_type": "code",
   "execution_count": 7,
   "metadata": {},
   "outputs": [],
   "source": [
    "hospital_data_non_0_HR_min_died = hospital_data_non_0_HR_min[hospital_data_non_0_HR_min['In-hospital_death'] ==1]\n",
    "hospital_data_non_0_HR_min_survived = hospital_data_non_0_HR_min[hospital_data_non_0_HR_min['In-hospital_death'] ==0]\n"
   ]
  },
  {
   "cell_type": "code",
   "execution_count": 8,
   "metadata": {},
   "outputs": [],
   "source": [
    "diff_in_mean_HR_min_non_zero = hospital_data_non_0_HR_min_died['HR_Min'].mean() - hospital_data_non_0_HR_min_survived['HR_Min'].mean()"
   ]
  },
  {
   "cell_type": "code",
   "execution_count": 9,
   "metadata": {},
   "outputs": [
    {
     "name": "stdout",
     "output_type": "stream",
     "text": [
      "Difference in means of HR_min for patients that died vs survived\n",
      "(not counting patients with HR_min of 0):  1.67\n"
     ]
    }
   ],
   "source": [
    "print('Difference in means of HR_min for patients that died vs survived')\n",
    "print('(not counting patients with HR_min of 0): ', round(diff_in_mean_HR_min_non_zero,2))"
   ]
  },
  {
   "cell_type": "markdown",
   "metadata": {},
   "source": [
    "### What is the median maximum heart rate for patients whose maximum temperature was 2 degrees Celsius higher than their minimum temperature?"
   ]
  },
  {
   "cell_type": "code",
   "execution_count": 10,
   "metadata": {},
   "outputs": [],
   "source": [
    "## Your code here\n",
    "hospital_data_temp_diff_2 = hospital_data[hospital_data['Temp_Max'] - hospital_data['Temp_Min'] >2]"
   ]
  },
  {
   "cell_type": "code",
   "execution_count": 11,
   "metadata": {},
   "outputs": [
    {
     "name": "stdout",
     "output_type": "stream",
     "text": [
      "Median Max Heart Rate for patients whose max temp was 2 degrees celsius higher than their min temp\n",
      "113.0\n"
     ]
    }
   ],
   "source": [
    "print('Median Max Heart Rate for patients whose max temp was 2 degrees celsius higher than their min temp')\n",
    "print(hospital_data_temp_diff_2['HR_Max'].median())"
   ]
  },
  {
   "cell_type": "markdown",
   "metadata": {},
   "source": [
    "### Create a plot to analyze the relationship between median temperature, outcome (died vs. survived), and age."
   ]
  },
  {
   "cell_type": "code",
   "execution_count": 13,
   "metadata": {},
   "outputs": [
    {
     "data": {
      "image/png": "[encoded data removed]",
      "text/plain": [
       "<Figure size 432x288 with 1 Axes>"
      ]
     },
     "metadata": {
      "needs_background": "light"
     },
     "output_type": "display_data"
    }
   ],
   "source": [
    "## Your code here\n",
    "import matplotlib.pyplot as plt\n",
    "\n",
    "s = plt.scatter(hospital_data[hospital_data['In-hospital_death']==0]['Age'],\n",
    "                hospital_data[hospital_data['In-hospital_death']==0]['Temp_Median'], color='b',\n",
    "                alpha=0.5)\n",
    "d = plt.scatter(hospital_data[hospital_data['In-hospital_death']==1]['Age'],\n",
    "                hospital_data[hospital_data['In-hospital_death']==1]['Temp_Median'], color='r',\n",
    "               alpha=0.5)\n",
    "\n",
    "plt.legend((s, d),\n",
    "           ('Survived', 'Died'),\n",
    "           scatterpoints=1,\n",
    "           loc='upper right',\n",
    "           ncol=3,\n",
    "           fontsize=8)\n",
    "plt.xlabel('Age')\n",
    "plt.ylabel('Median Temperature')\n",
    "\n",
    "plt.show()"
   ]
  },
  {
   "cell_type": "markdown",
   "metadata": {},
   "source": [
    "### Create a plot to analyze the relationship between median temperature, outcome (died vs. survived), and gender."
   ]
  },
  {
   "cell_type": "code",
   "execution_count": 14,
   "metadata": {},
   "outputs": [
    {
     "data": {
      "text/plain": [
       " 1.0    2246\n",
       " 0.0    1751\n",
       "-1.0       3\n",
       "Name: Gender, dtype: int64"
      ]
     },
     "execution_count": 14,
     "metadata": {},
     "output_type": "execute_result"
    }
   ],
   "source": [
    "hospital_data['Gender'].value_counts()"
   ]
  },
  {
   "cell_type": "code",
   "execution_count": 15,
   "metadata": {},
   "outputs": [
    {
     "data": {
      "image/png": "[encoded data removed]",
      "text/plain": [
       "<Figure size 432x288 with 1 Axes>"
      ]
     },
     "metadata": {
      "needs_background": "light"
     },
     "output_type": "display_data"
    }
   ],
   "source": [
    "'''\n",
    "Removing the observations corresponding to gender value of -1\n",
    "'''\n",
    "import seaborn as sns\n",
    "hospital_data_correct_gender = hospital_data[hospital_data['Gender']!=-1]\n",
    "plot2 = sns.boxplot(y= hospital_data_correct_gender['Temp_Median'],\n",
    "                    x = hospital_data_correct_gender['Gender'],\n",
    "                    hue=hospital_data['In-hospital_death'],\n",
    "                    palette=\"Set3\")\n",
    "plt.legend(loc = 'upper left',)\n",
    "\n",
    "leg = plot2.axes.get_legend()\n",
    "new_title = 'Survived'\n",
    "leg.set_title(new_title)\n",
    "plot2\n",
    "plt.show()"
   ]
  },
  {
   "cell_type": "markdown",
   "metadata": {},
   "source": [
    "### Build and summarize the results of a machine learning model that predicts whether a patient dies or survives in the hospital. (We do not expect a perfect or highest-accuracy solution; this is primarily an opportunity for you to show your machine learning project workflow and to document your thought process, approach to solving problems, and interpretation of results.)"
   ]
  },
  {
   "cell_type": "markdown",
   "metadata": {},
   "source": [
    "### Importing Packages"
   ]
  },
  {
   "cell_type": "code",
   "execution_count": 16,
   "metadata": {},
   "outputs": [],
   "source": [
    "from sklearn.model_selection import train_test_split\n",
    "from sklearn.model_selection import KFold\n",
    "from sklearn.neighbors import KNeighborsClassifier \n",
    "from sklearn.metrics import f1_score\n",
    "from sklearn.metrics import recall_score\n",
    "import numpy as np\n",
    "from imblearn.over_sampling import SMOTE\n",
    "from sklearn.metrics import accuracy_score\n",
    "from sklearn.metrics import precision_score"
   ]
  },
  {
   "cell_type": "markdown",
   "metadata": {},
   "source": [
    "### Data Cleaning"
   ]
  },
  {
   "cell_type": "code",
   "execution_count": 17,
   "metadata": {},
   "outputs": [],
   "source": [
    "\n",
    "hospital_data_clean = hospital_data.dropna()\n",
    "hospital_data_clean.reset_index()\n",
    "hospital_data_clean_feature = hospital_data_clean.iloc[:,:-1]\n",
    "hospital_data_clean_target = hospital_data_clean['In-hospital_death']\n",
    "\n"
   ]
  },
  {
   "cell_type": "markdown",
   "metadata": {},
   "source": [
    "### Balancing the imbalanced data using SMOTE"
   ]
  },
  {
   "cell_type": "code",
   "execution_count": 18,
   "metadata": {},
   "outputs": [],
   "source": [
    "sm = SMOTE(random_state=42)\n",
    "X_res, y_res = sm.fit_resample(hospital_data_clean_feature, hospital_data_clean_target)"
   ]
  },
  {
   "cell_type": "markdown",
   "metadata": {},
   "source": [
    "### Splitting the data into Test and Train"
   ]
  },
  {
   "cell_type": "code",
   "execution_count": 19,
   "metadata": {},
   "outputs": [],
   "source": [
    "X_train, X_test, y_train, y_test = train_test_split(X_res, y_res, test_size =0.2 )"
   ]
  },
  {
   "cell_type": "code",
   "execution_count": 20,
   "metadata": {},
   "outputs": [
    {
     "data": {
      "text/plain": [
       "(3288, 110)"
      ]
     },
     "execution_count": 20,
     "metadata": {},
     "output_type": "execute_result"
    }
   ],
   "source": [
    "X_train.shape"
   ]
  },
  {
   "cell_type": "code",
   "execution_count": 21,
   "metadata": {},
   "outputs": [
    {
     "data": {
      "text/plain": [
       "1    1668\n",
       "0    1620\n",
       "dtype: int64"
      ]
     },
     "execution_count": 21,
     "metadata": {},
     "output_type": "execute_result"
    }
   ],
   "source": [
    "pd.Series(y_train).value_counts()"
   ]
  },
  {
   "cell_type": "code",
   "execution_count": 22,
   "metadata": {},
   "outputs": [
    {
     "data": {
      "text/plain": [
       "0    435\n",
       "1    387\n",
       "dtype: int64"
      ]
     },
     "execution_count": 22,
     "metadata": {},
     "output_type": "execute_result"
    }
   ],
   "source": [
    "pd.Series(y_test).value_counts()"
   ]
  },
  {
   "cell_type": "markdown",
   "metadata": {},
   "source": [
    "### Tuning the hyperparameter - k (# of Nearest Neighbor) using 5 fold CV on Recall Score "
   ]
  },
  {
   "cell_type": "code",
   "execution_count": 23,
   "metadata": {},
   "outputs": [
    {
     "name": "stdout",
     "output_type": "stream",
     "text": [
      "k = 1\n",
      "\t[fold 0] k: 1.00000, accuracy: 0.98841\n",
      "\t[fold 1] k: 1.00000, accuracy: 0.98784\n",
      "\t[fold 2] k: 1.00000, accuracy: 0.95808\n",
      "\t[fold 3] k: 1.00000, accuracy: 0.98507\n",
      "\t[fold 4] k: 1.00000, accuracy: 0.97231\n",
      "k = 2\n",
      "\t[fold 0] k: 2.00000, accuracy: 0.94493\n",
      "\t[fold 1] k: 2.00000, accuracy: 0.93313\n",
      "\t[fold 2] k: 2.00000, accuracy: 0.91317\n",
      "\t[fold 3] k: 2.00000, accuracy: 0.93433\n",
      "\t[fold 4] k: 2.00000, accuracy: 0.93538\n",
      "k = 5\n",
      "\t[fold 0] k: 5.00000, accuracy: 0.95942\n",
      "\t[fold 1] k: 5.00000, accuracy: 0.94833\n",
      "\t[fold 2] k: 5.00000, accuracy: 0.96407\n",
      "\t[fold 3] k: 5.00000, accuracy: 0.93731\n",
      "\t[fold 4] k: 5.00000, accuracy: 0.94154\n",
      "k = 10\n",
      "\t[fold 0] k: 10.00000, accuracy: 0.87826\n",
      "\t[fold 1] k: 10.00000, accuracy: 0.87842\n",
      "\t[fold 2] k: 10.00000, accuracy: 0.88024\n",
      "\t[fold 3] k: 10.00000, accuracy: 0.86269\n",
      "\t[fold 4] k: 10.00000, accuracy: 0.87077\n",
      "k = 25\n",
      "\t[fold 0] k: 25.00000, accuracy: 0.83188\n",
      "\t[fold 1] k: 25.00000, accuracy: 0.82371\n",
      "\t[fold 2] k: 25.00000, accuracy: 0.83533\n",
      "\t[fold 3] k: 25.00000, accuracy: 0.82090\n",
      "\t[fold 4] k: 25.00000, accuracy: 0.85538\n",
      "k = 100\n",
      "\t[fold 0] k: 100.00000, accuracy: 0.70725\n",
      "\t[fold 1] k: 100.00000, accuracy: 0.72340\n",
      "\t[fold 2] k: 100.00000, accuracy: 0.74251\n",
      "\t[fold 3] k: 100.00000, accuracy: 0.75821\n",
      "\t[fold 4] k: 100.00000, accuracy: 0.72308\n",
      "k = 1000\n",
      "\t[fold 0] k: 1000.00000, accuracy: 0.75072\n",
      "\t[fold 1] k: 1000.00000, accuracy: 0.76596\n",
      "\t[fold 2] k: 1000.00000, accuracy: 0.81138\n",
      "\t[fold 3] k: 1000.00000, accuracy: 0.79403\n",
      "\t[fold 4] k: 1000.00000, accuracy: 0.86769\n",
      "Best K: 1 with score: 0.9783427787797792\n"
     ]
    }
   ],
   "source": [
    "num_folds = 5\n",
    "k_fold = KFold(num_folds, shuffle=True, random_state = 0)\n",
    "\n",
    "# Potentail values of K\n",
    "param_values = [1, 2, 5, 10, 25, 100, 1000]\n",
    "\n",
    "cross_val_scores = []\n",
    "\n",
    "for p in param_values:\n",
    "    \n",
    "    print(\"k = \" + str(p))\n",
    "    fold_scores = []\n",
    "    for k,(train_index,val_index) in enumerate(k_fold.split(X_train,y_train)):\n",
    "        s = train_index\n",
    "        t = val_index\n",
    "        neig = KNeighborsClassifier(n_neighbors = p)\n",
    "        neig.fit(X_train[train_index], y_train[train_index])\n",
    "        ypred = neig.predict(X_train[val_index])\n",
    "        yval = y_train[val_index]\n",
    "        \n",
    "        acc = recall_score(yval,ypred)\n",
    "        \n",
    "        fold_scores.append(acc)\n",
    "        \n",
    "        print(\"\\t[fold {0}] k: {1:.5f}, accuracy: {2:.5f}\".format(k, p, acc))\n",
    "\n",
    "    cross_val_scores.append(np.mean(fold_scores))\n",
    "    \n",
    "best_k_index = np.argmax(cross_val_scores)\n",
    "best_k = param_values[best_k_index]\n",
    "print(\"Best K: \" + str(best_k) + \" with score: \" + str(cross_val_scores[best_k_index]))\n"
   ]
  },
  {
   "cell_type": "markdown",
   "metadata": {},
   "source": [
    "### Fitting the model on training data on the tuned hyperparameter"
   ]
  },
  {
   "cell_type": "code",
   "execution_count": 24,
   "metadata": {
    "scrolled": true
   },
   "outputs": [
    {
     "data": {
      "text/plain": [
       "KNeighborsClassifier(algorithm='auto', leaf_size=30, metric='minkowski',\n",
       "           metric_params=None, n_jobs=None, n_neighbors=1, p=2,\n",
       "           weights='uniform')"
      ]
     },
     "execution_count": 24,
     "metadata": {},
     "output_type": "execute_result"
    }
   ],
   "source": [
    "neig = KNeighborsClassifier(n_neighbors = best_k)\n",
    "neig.fit(X_train, y_train)\n"
   ]
  },
  {
   "cell_type": "markdown",
   "metadata": {},
   "source": [
    "### Making predictions on the test data"
   ]
  },
  {
   "cell_type": "code",
   "execution_count": 25,
   "metadata": {},
   "outputs": [],
   "source": [
    "ypred = neig.predict(X_test)\n"
   ]
  },
  {
   "cell_type": "markdown",
   "metadata": {},
   "source": [
    "### Accuracy Metrices on the Test Data "
   ]
  },
  {
   "cell_type": "markdown",
   "metadata": {},
   "source": [
    "#### 1. Accuracy Score"
   ]
  },
  {
   "cell_type": "code",
   "execution_count": 26,
   "metadata": {},
   "outputs": [
    {
     "data": {
      "text/plain": [
       "0.851581508515815"
      ]
     },
     "execution_count": 26,
     "metadata": {},
     "output_type": "execute_result"
    }
   ],
   "source": [
    "acc = accuracy_score(y_test,ypred)\n",
    "acc"
   ]
  },
  {
   "cell_type": "code",
   "execution_count": 27,
   "metadata": {},
   "outputs": [
    {
     "name": "stdout",
     "output_type": "stream",
     "text": [
      "Interpretation:\n",
      "Overall % of correct classification in the test data is  85.16 %\n"
     ]
    }
   ],
   "source": [
    "print('Interpretation:')\n",
    "print('Overall % of correct classification in the test data is ', round(acc*100,2),'%')"
   ]
  },
  {
   "cell_type": "markdown",
   "metadata": {},
   "source": [
    "#### 2. Recall Score"
   ]
  },
  {
   "cell_type": "code",
   "execution_count": 28,
   "metadata": {},
   "outputs": [
    {
     "data": {
      "text/plain": [
       "0.9896640826873385"
      ]
     },
     "execution_count": 28,
     "metadata": {},
     "output_type": "execute_result"
    }
   ],
   "source": [
    "rec_score = recall_score(y_test,ypred)\n",
    "rec_score"
   ]
  },
  {
   "cell_type": "code",
   "execution_count": 29,
   "metadata": {},
   "outputs": [
    {
     "name": "stdout",
     "output_type": "stream",
     "text": [
      "Interpretation:\n",
      "Of all the patients who died in the hospital  85.16 % have been correctly classified\n"
     ]
    }
   ],
   "source": [
    "print('Interpretation:')\n",
    "print('Of all the patients who died in the hospital ', round(rec_score*100,2),'% have been correctly classified')"
   ]
  },
  {
   "cell_type": "markdown",
   "metadata": {},
   "source": [
    "#### 3. Precision Score"
   ]
  },
  {
   "cell_type": "code",
   "execution_count": 30,
   "metadata": {},
   "outputs": [
    {
     "data": {
      "text/plain": [
       "0.7644710578842315"
      ]
     },
     "execution_count": 30,
     "metadata": {},
     "output_type": "execute_result"
    }
   ],
   "source": [
    "pre_score = precision_score(y_test, ypred)\n",
    "pre_score"
   ]
  },
  {
   "cell_type": "code",
   "execution_count": 31,
   "metadata": {},
   "outputs": [
    {
     "name": "stdout",
     "output_type": "stream",
     "text": [
      "Interpretation:\n",
      "Of all the patients who have been classfied as \"In-hospital Death\" 76.45 % have been correctly classified\n"
     ]
    }
   ],
   "source": [
    "print('Interpretation:')\n",
    "print('Of all the patients who have been classfied as \"In-hospital Death\"', round(pre_score*100,2),'% have been correctly classified')"
   ]
  },
  {
   "cell_type": "markdown",
   "metadata": {},
   "source": [
    "#### 4. F1- Score"
   ]
  },
  {
   "cell_type": "code",
   "execution_count": 32,
   "metadata": {},
   "outputs": [
    {
     "data": {
      "text/plain": [
       "0.8626126126126126"
      ]
     },
     "execution_count": 32,
     "metadata": {},
     "output_type": "execute_result"
    }
   ],
   "source": [
    "f1_sc = f1_score(y_test,ypred)\n",
    "f1_sc"
   ]
  },
  {
   "cell_type": "code",
   "execution_count": 33,
   "metadata": {},
   "outputs": [
    {
     "name": "stdout",
     "output_type": "stream",
     "text": [
      "Interpretation:\n",
      "The harmonic mean of precision and recall is  86.26\n"
     ]
    }
   ],
   "source": [
    "print('Interpretation:')\n",
    "print('The harmonic mean of precision and recall is ', round(f1_sc*100,2))"
   ]
  },
  {
   "cell_type": "code",
   "execution_count": null,
   "metadata": {},
   "outputs": [],
   "source": []
  }
 ],
 "metadata": {
  "kernelspec": {
   "display_name": "Python 3",
   "language": "python",
   "name": "python3"
  },
  "language_info": {
   "codemirror_mode": {
    "name": "ipython",
    "version": 3
   },
   "file_extension": ".py",
   "mimetype": "text/x-python",
   "name": "python",
   "nbconvert_exporter": "python",
   "pygments_lexer": "ipython3",
   "version": "3.6.8"
  }
 },
 "nbformat": 4,
 "nbformat_minor": 2
}
